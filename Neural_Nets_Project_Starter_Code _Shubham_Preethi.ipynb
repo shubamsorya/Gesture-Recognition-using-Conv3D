{
 "cells": [
  {
   "cell_type": "markdown",
   "metadata": {},
   "source": [
    "# Gesture Recognition\n",
    "In this group project, you are going to build a 3D Conv model that will be able to predict the 5 gestures correctly. Please import the following libraries to get started."
   ]
  },
  {
   "cell_type": "code",
   "execution_count": 1,
   "metadata": {},
   "outputs": [],
   "source": [
    "import numpy as np\n",
    "import os\n",
    "from scipy.misc import imread, imresize\n",
    "import datetime\n",
    "import os\n",
    "import matplotlib.pyplot as plt\n"
   ]
  },
  {
   "cell_type": "code",
   "execution_count": 2,
   "metadata": {},
   "outputs": [],
   "source": [
    "import warnings\n",
    "warnings.filterwarnings('ignore')"
   ]
  },
  {
   "cell_type": "markdown",
   "metadata": {},
   "source": [
    "We set the random seed so that the results don't vary drastically."
   ]
  },
  {
   "cell_type": "code",
   "execution_count": 3,
   "metadata": {},
   "outputs": [
    {
     "name": "stderr",
     "output_type": "stream",
     "text": [
      "Using TensorFlow backend.\n"
     ]
    }
   ],
   "source": [
    "np.random.seed(30)\n",
    "import random as rn\n",
    "rn.seed(30)\n",
    "from keras import backend as K\n",
    "import tensorflow as tf\n",
    "tf.set_random_seed(30)\n"
   ]
  },
  {
   "cell_type": "markdown",
   "metadata": {},
   "source": [
    "In this block, you read the folder names for training and validation. You also set the `batch_size` here. Note that you set the batch size in such a way that you are able to use the GPU in full capacity. You keep increasing the batch size until the machine throws an error."
   ]
  },
  {
   "cell_type": "code",
   "execution_count": 4,
   "metadata": {},
   "outputs": [],
   "source": [
    "# train_doc = np.random.permutation(open('/notebooks/storage/Final_data/Collated_training/train.csv').readlines())\n",
    "# val_doc = np.random.permutation(open('/notebooks/storage/Final_data/Collated_training/val.csv').readlines())\n",
    "train_doc = np.random.permutation(open('train.csv').readlines())\n",
    "val_doc = np.random.permutation(open('val.csv').readlines())\n",
    "\n"
   ]
  },
  {
   "cell_type": "markdown",
   "metadata": {},
   "source": [
    "## Generator\n",
    "This is one of the most important part of the code. The overall structure of the generator has been given. In the generator, you are going to preprocess the images as you have images of 2 different dimensions as well as create a batch of video frames. You have to experiment with `img_idx`, `y`,`z` and normalization such that you get high accuracy."
   ]
  },
  {
   "cell_type": "code",
   "execution_count": 6,
   "metadata": {},
   "outputs": [],
   "source": [
    "def generator(source_path, folder_list, batch_size,image_index,y =100,z = 100):\n",
    "    print( 'Source path = ', source_path, '; batch size =', batch_size)\n",
    "    img_idx = image_index #create a list of image numbers you want to use for a particular video\n",
    "    x = len(img_idx)\n",
    "    while True:\n",
    "        t = np.random.permutation(folder_list)\n",
    "        num_batches = len(folder_list)//batch_size# calculate the number of batches\n",
    "        for batch in range(num_batches): # we iterate over the number of batches\n",
    "            batch_data = np.zeros((batch_size,x,y,z,3)) # x is the number of images you use for each video, (y,z) is the final size of the input images and 3 is the number of channels RGB\n",
    "            batch_labels = np.zeros((batch_size,5)) # batch_labels is the one hot representation of the output\n",
    "            for folder in range(batch_size): # iterate over the batch_size\n",
    "                imgs = os.listdir(source_path+'/'+ t[folder + (batch*batch_size)].split(';')[0]) # read all the images in the folder\n",
    "                for idx,item in enumerate(img_idx): #  Iterate over the frames/images of a folder to read them in\n",
    "                    image = imread(source_path+'/'+ t[folder + (batch*batch_size)].strip().split(';')[0]+'/'+imgs[item]).astype(np.float32)\n",
    "                    \n",
    "                    #crop the images and resize them. Note that the images are of 2 different shape \n",
    "                    #and the conv3D will throw error if the inputs in a batch have different shapes\n",
    "                    image = image[5:-5,5:-5,:]\n",
    "                    new_w = z\n",
    "                    new_h = y\n",
    "                    image_resized = imresize(image,[new_h,new_w,3])\n",
    "                    \n",
    "                    batch_data[folder,idx,:,:,0] = (image_resized[:,:,0])/255#normalise and feed in the image\n",
    "                    batch_data[folder,idx,:,:,1] = (image_resized[:,:,1])/255#normalise and feed in the image\n",
    "                    batch_data[folder,idx,:,:,2] = (image_resized[:,:,2])/255#normalise and feed in the image\n",
    "                    \n",
    "                batch_labels[folder, int(t[folder + (batch*batch_size)].strip().split(';')[2])] = 1\n",
    "            yield batch_data, batch_labels #you yield the batch_data and the batch_labels, remember what does yield do\n",
    "\n",
    "        \n",
    "        # write the code for the remaining data points which are left after full batches\n",
    "        remaining_seq = len(folder_list)%batch_size\n",
    "        batch_data = np.zeros((remaining_seq,x,y,z,3)) # x is the number of images you use for each video, (y,z) is the final size of the input images and 3 is the number of channels RGB\n",
    "        batch_labels = np.zeros((remaining_seq,5)) # batch_labels is the one hot representation of the output\n",
    "        for folder in range(remaining_seq): # iterate over the batch_size\n",
    "            imgs = os.listdir(source_path+'/'+ t[folder + (num_batches*remaining_seq)].split(';')[0]) # read all the images in the folder\n",
    "            for idx,item in enumerate(img_idx): #  Iterate iver the frames/images of a folder to read them in\n",
    "                image = imread(source_path+'/'+ t[folder + (num_batches*remaining_seq)].strip().split(';')[0]+'/'+imgs[item]).astype(np.float32)\n",
    "\n",
    "                #crop the images and resize them. Note that the images are of 2 different shape \n",
    "                #and the conv3D will throw error if the inputs in a batch have different shapes\n",
    "                image = image[5:-5,5:-5,:]\n",
    "                new_w = z\n",
    "                new_h = y\n",
    "                image_resized = imresize(image,[new_h,new_w,3])\n",
    "\n",
    "                batch_data[folder,idx,:,:,0] = (image_resized[:,:,0])/255#normalise and feed in the image\n",
    "                batch_data[folder,idx,:,:,1] = (image_resized[:,:,1])/255#normalise and feed in the image\n",
    "                batch_data[folder,idx,:,:,2] = (image_resized[:,:,2])/255#normalise and feed in the image\n",
    "\n",
    "            batch_labels[folder, int(t[folder + (num_batches*remaining_seq)].strip().split(';')[2])] = 1\n",
    "            yield batch_data, batch_labels #you yield the batch_data and the batch_labels, remember what does yield do\n"
   ]
  },
  {
   "cell_type": "markdown",
   "metadata": {},
   "source": [
    "Note here that a video is represented above in the generator as (number of images, height, width, number of channels). Take this into consideration while creating the model architecture."
   ]
  },
  {
   "cell_type": "markdown",
   "metadata": {},
   "source": [
    "### Plotting"
   ]
  },
  {
   "cell_type": "code",
   "execution_count": 7,
   "metadata": {},
   "outputs": [
    {
     "name": "stdout",
     "output_type": "stream",
     "text": [
      "# training sequences = 663\n",
      "# validation sequences = 100\n",
      "# epochs = 30\n"
     ]
    }
   ],
   "source": [
    "curr_dt_time = datetime.datetime.now()\n",
    "# train_path = '/notebooks/storage/Final_data/Collated_training/train'\n",
    "# val_path = '/notebooks/storage/Final_data/Collated_training/val'\n",
    "train_path = 'train'\n",
    "val_path = 'val'\n",
    "num_train_sequences = len(train_doc)\n",
    "print('# training sequences =', num_train_sequences)\n",
    "num_val_sequences = len(val_doc)\n",
    "print('# validation sequences =', num_val_sequences)\n",
    "num_epochs = 30    # choose the number of epochs\n",
    "print ('# epochs =', num_epochs)"
   ]
  },
  {
   "cell_type": "markdown",
   "metadata": {},
   "source": [
    "## Final Model using Conv3D \n",
    "- epoch  = 30\n",
    "- batch_size = 100   \n",
    "- frames = 24, removing some first and last images \n",
    "- image size 100 * 100\n",
    "- dropout = 0.5\n",
    "- dense neuron  = 128\n",
    "\n"
   ]
  },
  {
   "cell_type": "code",
   "execution_count": 19,
   "metadata": {},
   "outputs": [],
   "source": [
    "batch_size = 100    #experiment with the batch size\n",
    "image_index = [i for i in range(4,28)]"
   ]
  },
  {
   "cell_type": "markdown",
   "metadata": {},
   "source": [
    "## Model\n",
    "Here you make the model using different functionalities that Keras provides. Remember to use `Conv3D` and `MaxPooling3D` and not `Conv2D` and `Maxpooling2D` for a 3D convolution model. You would want to use `TimeDistributed` while building a Conv2D + RNN model. Also remember that the last layer is the softmax. Design the network in such a way that the model is able to give good accuracy on the least number of parameters so that it can fit in the memory of the webcam."
   ]
  },
  {
   "cell_type": "code",
   "execution_count": 20,
   "metadata": {},
   "outputs": [],
   "source": [
    "from keras.models import Sequential, Model\n",
    "from keras.layers import Dense, GRU, Flatten, TimeDistributed, Flatten, BatchNormalization, Activation , Dropout\n",
    "from keras.layers.convolutional import Conv3D, MaxPooling3D\n",
    "from keras.callbacks import ModelCheckpoint, ReduceLROnPlateau\n",
    "from keras import optimizers\n",
    "\n",
    "#write your model here\n",
    "\n",
    "dropout = 0.5\n",
    "dense_neurons = 128\n",
    "\n",
    "model = Sequential()\n",
    "model.add(Conv3D(16, (3, 3, 3), padding='same',\n",
    "         input_shape=(len(image_index),100,100,3)))\n",
    "model.add(Activation('relu'))\n",
    "model.add(BatchNormalization())\n",
    "model.add(MaxPooling3D(pool_size=(2, 2, 2)))\n",
    "\n",
    "model.add(Conv3D(32, (2, 2, 2), padding='same'))\n",
    "model.add(Activation('relu'))\n",
    "model.add(BatchNormalization())\n",
    "model.add(MaxPooling3D(pool_size=(2, 2, 2)))\n",
    "\n",
    "model.add(Conv3D(64, (2, 2, 2), padding='same'))\n",
    "model.add(Activation('relu'))\n",
    "model.add(BatchNormalization())\n",
    "model.add(MaxPooling3D(pool_size=(2, 2, 2)))\n",
    "\n",
    "model.add(Conv3D(128, (2, 2, 2), padding='same'))\n",
    "model.add(Activation('relu'))\n",
    "model.add(BatchNormalization())\n",
    "model.add(MaxPooling3D(pool_size=(2, 2, 2)))\n",
    "\n",
    "model.add(Flatten())\n",
    "model.add(Dense(dense_neurons,activation='relu'))\n",
    "model.add(BatchNormalization())\n",
    "model.add(Dropout(dropout))\n",
    "\n",
    "model.add(Dense(dense_neurons,activation='relu'))\n",
    "model.add(BatchNormalization())\n",
    "model.add(Dropout(dropout))\n",
    "\n",
    "model.add(Dense(5,activation='softmax'))\n",
    "\n"
   ]
  },
  {
   "cell_type": "markdown",
   "metadata": {},
   "source": [
    "Now that you have written the model, the next step is to `compile` the model. When you print the `summary` of the model, you'll see the total number of parameters you have to train."
   ]
  },
  {
   "cell_type": "code",
   "execution_count": 21,
   "metadata": {
    "scrolled": true
   },
   "outputs": [
    {
     "name": "stdout",
     "output_type": "stream",
     "text": [
      "_________________________________________________________________\n",
      "Layer (type)                 Output Shape              Param #   \n",
      "=================================================================\n",
      "conv3d_5 (Conv3D)            (None, 24, 100, 100, 16)  1312      \n",
      "_________________________________________________________________\n",
      "activation_5 (Activation)    (None, 24, 100, 100, 16)  0         \n",
      "_________________________________________________________________\n",
      "batch_normalization_7 (Batch (None, 24, 100, 100, 16)  64        \n",
      "_________________________________________________________________\n",
      "max_pooling3d_5 (MaxPooling3 (None, 12, 50, 50, 16)    0         \n",
      "_________________________________________________________________\n",
      "conv3d_6 (Conv3D)            (None, 12, 50, 50, 32)    4128      \n",
      "_________________________________________________________________\n",
      "activation_6 (Activation)    (None, 12, 50, 50, 32)    0         \n",
      "_________________________________________________________________\n",
      "batch_normalization_8 (Batch (None, 12, 50, 50, 32)    128       \n",
      "_________________________________________________________________\n",
      "max_pooling3d_6 (MaxPooling3 (None, 6, 25, 25, 32)     0         \n",
      "_________________________________________________________________\n",
      "conv3d_7 (Conv3D)            (None, 6, 25, 25, 64)     16448     \n",
      "_________________________________________________________________\n",
      "activation_7 (Activation)    (None, 6, 25, 25, 64)     0         \n",
      "_________________________________________________________________\n",
      "batch_normalization_9 (Batch (None, 6, 25, 25, 64)     256       \n",
      "_________________________________________________________________\n",
      "max_pooling3d_7 (MaxPooling3 (None, 3, 12, 12, 64)     0         \n",
      "_________________________________________________________________\n",
      "conv3d_8 (Conv3D)            (None, 3, 12, 12, 128)    65664     \n",
      "_________________________________________________________________\n",
      "activation_8 (Activation)    (None, 3, 12, 12, 128)    0         \n",
      "_________________________________________________________________\n",
      "batch_normalization_10 (Batc (None, 3, 12, 12, 128)    512       \n",
      "_________________________________________________________________\n",
      "max_pooling3d_8 (MaxPooling3 (None, 1, 6, 6, 128)      0         \n",
      "_________________________________________________________________\n",
      "flatten_2 (Flatten)          (None, 4608)              0         \n",
      "_________________________________________________________________\n",
      "dense_4 (Dense)              (None, 128)               589952    \n",
      "_________________________________________________________________\n",
      "batch_normalization_11 (Batc (None, 128)               512       \n",
      "_________________________________________________________________\n",
      "dropout_3 (Dropout)          (None, 128)               0         \n",
      "_________________________________________________________________\n",
      "dense_5 (Dense)              (None, 128)               16512     \n",
      "_________________________________________________________________\n",
      "batch_normalization_12 (Batc (None, 128)               512       \n",
      "_________________________________________________________________\n",
      "dropout_4 (Dropout)          (None, 128)               0         \n",
      "_________________________________________________________________\n",
      "dense_6 (Dense)              (None, 5)                 645       \n",
      "=================================================================\n",
      "Total params: 696,645\n",
      "Trainable params: 695,653\n",
      "Non-trainable params: 992\n",
      "_________________________________________________________________\n",
      "None\n"
     ]
    }
   ],
   "source": [
    "optimiser = optimizers.Adam() #write your optimizer\n",
    "model.compile(optimizer=optimiser, loss='categorical_crossentropy', metrics=['categorical_accuracy'])\n",
    "print (model.summary())"
   ]
  },
  {
   "cell_type": "markdown",
   "metadata": {},
   "source": [
    "Let us create the `train_generator` and the `val_generator` which will be used in `.fit_generator`."
   ]
  },
  {
   "cell_type": "code",
   "execution_count": 22,
   "metadata": {},
   "outputs": [],
   "source": [
    "train_generator = generator(train_path, train_doc, batch_size,image_index)\n",
    "val_generator = generator(val_path, val_doc, batch_size,image_index)"
   ]
  },
  {
   "cell_type": "code",
   "execution_count": 23,
   "metadata": {},
   "outputs": [],
   "source": [
    "model_name = 'model_init' + '_' + str(curr_dt_time).replace(' ','').replace(':','_') + '/'\n",
    "    \n",
    "if not os.path.exists(model_name):\n",
    "    os.mkdir(model_name)\n",
    "        \n",
    "filepath = model_name + 'model-{epoch:05d}-{loss:.5f}-{categorical_accuracy:.5f}-{val_loss:.5f}-{val_categorical_accuracy:.5f}.h5'\n",
    "\n",
    "checkpoint = ModelCheckpoint(filepath, monitor='val_loss', verbose=1, save_best_only=False, save_weights_only=False, mode='auto', period=1)\n",
    "\n",
    "LR = ReduceLROnPlateau(monitor='val_loss', factor=0.2, verbose=1, patience=4) # write the REducelronplateau code here\n",
    "callbacks_list = [checkpoint, LR]"
   ]
  },
  {
   "cell_type": "markdown",
   "metadata": {},
   "source": [
    "The `steps_per_epoch` and `validation_steps` are used by `fit_generator` to decide the number of next() calls it need to make."
   ]
  },
  {
   "cell_type": "code",
   "execution_count": 24,
   "metadata": {},
   "outputs": [],
   "source": [
    "if (num_train_sequences%batch_size) == 0:\n",
    "    steps_per_epoch = int(num_train_sequences/batch_size)\n",
    "else:\n",
    "    steps_per_epoch = (num_train_sequences//batch_size) + 1\n",
    "\n",
    "if (num_val_sequences%batch_size) == 0:\n",
    "    validation_steps = int(num_val_sequences/batch_size)\n",
    "else:\n",
    "    validation_steps = (num_val_sequences//batch_size) + 1"
   ]
  },
  {
   "cell_type": "markdown",
   "metadata": {},
   "source": [
    "Let us now fit the model. This will start training the model and with the help of the checkpoints, you'll be able to save the model at the end of each epoch."
   ]
  },
  {
   "cell_type": "code",
   "execution_count": 25,
   "metadata": {
    "scrolled": false
   },
   "outputs": [
    {
     "name": "stdout",
     "output_type": "stream",
     "text": [
      "Source path =  valSource path =  train ; batch size = 100\n",
      " ; batch size = 100\n",
      "Epoch 1/30\n",
      "7/7 [==============================] - 75s 11s/step - loss: 2.0877 - categorical_accuracy: 0.2519 - val_loss: 2.0019 - val_categorical_accuracy: 0.4100\n",
      "\n",
      "Epoch 00001: saving model to model_init_2021-02-0518_23_59.653761/model-00001-2.13711-0.25792-2.00188-0.41000.h5\n",
      "Epoch 2/30\n",
      "7/7 [==============================] - 11s 2s/step - loss: 0.7374 - categorical_accuracy: 0.2200 - val_loss: 1.2570 - val_categorical_accuracy: 0.4700\n",
      "\n",
      "Epoch 00002: saving model to model_init_2021-02-0518_23_59.653761/model-00002-0.73744-0.21995-1.25696-0.47000.h5\n",
      "Epoch 3/30\n",
      "7/7 [==============================] - 11s 2s/step - loss: 0.4745 - categorical_accuracy: 0.2948 - val_loss: 1.6086 - val_categorical_accuracy: 0.3800\n",
      "\n",
      "Epoch 00003: saving model to model_init_2021-02-0518_23_59.653761/model-00003-0.47451-0.29478-1.60858-0.38000.h5\n",
      "Epoch 4/30\n",
      "7/7 [==============================] - 11s 2s/step - loss: 0.4866 - categorical_accuracy: 0.4150 - val_loss: 1.8464 - val_categorical_accuracy: 0.4900\n",
      "\n",
      "Epoch 00004: saving model to model_init_2021-02-0518_23_59.653761/model-00004-0.48664-0.41497-1.84637-0.49000.h5\n",
      "Epoch 5/30\n",
      "7/7 [==============================] - 11s 2s/step - loss: 0.4069 - categorical_accuracy: 0.5374 - val_loss: 1.7562 - val_categorical_accuracy: 0.4500\n",
      "\n",
      "Epoch 00005: saving model to model_init_2021-02-0518_23_59.653761/model-00005-0.40687-0.53741-1.75621-0.45000.h5\n",
      "Epoch 6/30\n",
      "7/7 [==============================] - 11s 2s/step - loss: 0.3465 - categorical_accuracy: 0.5782 - val_loss: 1.2481 - val_categorical_accuracy: 0.4600\n",
      "\n",
      "Epoch 00006: saving model to model_init_2021-02-0518_23_59.653761/model-00006-0.34647-0.57823-1.24811-0.46000.h5\n",
      "Epoch 7/30\n",
      "7/7 [==============================] - 11s 2s/step - loss: 0.2939 - categorical_accuracy: 0.6893 - val_loss: 1.5758 - val_categorical_accuracy: 0.4400\n",
      "\n",
      "Epoch 00007: saving model to model_init_2021-02-0518_23_59.653761/model-00007-0.29394-0.68934-1.57578-0.44000.h5\n",
      "Epoch 8/30\n",
      "7/7 [==============================] - 11s 2s/step - loss: 0.2434 - categorical_accuracy: 0.8277 - val_loss: 1.3576 - val_categorical_accuracy: 0.4400\n",
      "\n",
      "Epoch 00008: saving model to model_init_2021-02-0518_23_59.653761/model-00008-0.24335-0.82766-1.35756-0.44000.h5\n",
      "Epoch 9/30\n",
      "7/7 [==============================] - 11s 2s/step - loss: 0.2341 - categorical_accuracy: 0.9206 - val_loss: 1.2475 - val_categorical_accuracy: 0.5400\n",
      "\n",
      "Epoch 00009: saving model to model_init_2021-02-0518_23_59.653761/model-00009-0.23406-0.92063-1.24748-0.54000.h5\n",
      "Epoch 10/30\n",
      "7/7 [==============================] - 12s 2s/step - loss: 0.3254 - categorical_accuracy: 0.9118 - val_loss: 1.1711 - val_categorical_accuracy: 0.5200\n",
      "\n",
      "Epoch 00010: saving model to model_init_2021-02-0518_23_59.653761/model-00010-0.39681-0.88912-1.17113-0.52000.h5\n",
      "Epoch 11/30\n",
      "7/7 [==============================] - 56s 8s/step - loss: 1.2187 - categorical_accuracy: 0.4663 - val_loss: 1.2818 - val_categorical_accuracy: 0.5400\n",
      "\n",
      "Epoch 00011: saving model to model_init_2021-02-0518_23_59.653761/model-00011-1.26768-0.49681-1.28181-0.54000.h5\n",
      "Epoch 12/30\n",
      "7/7 [==============================] - 11s 2s/step - loss: 0.4912 - categorical_accuracy: 0.2993 - val_loss: 1.2364 - val_categorical_accuracy: 0.6000\n",
      "\n",
      "Epoch 00012: saving model to model_init_2021-02-0518_23_59.653761/model-00012-0.49124-0.29932-1.23641-0.60000.h5\n",
      "Epoch 13/30\n",
      "7/7 [==============================] - 11s 2s/step - loss: 0.3265 - categorical_accuracy: 0.3900 - val_loss: 1.2878 - val_categorical_accuracy: 0.4700\n",
      "\n",
      "Epoch 00013: saving model to model_init_2021-02-0518_23_59.653761/model-00013-0.32651-0.39002-1.28777-0.47000.h5\n",
      "Epoch 14/30\n",
      "7/7 [==============================] - 11s 2s/step - loss: 0.2179 - categorical_accuracy: 0.4580 - val_loss: 1.5332 - val_categorical_accuracy: 0.4400\n",
      "\n",
      "Epoch 00014: saving model to model_init_2021-02-0518_23_59.653761/model-00014-0.21788-0.45805-1.53321-0.44000.h5\n",
      "\n",
      "Epoch 00014: ReduceLROnPlateau reducing learning rate to 0.00020000000949949026.\n",
      "Epoch 15/30\n",
      "7/7 [==============================] - 11s 2s/step - loss: 0.2366 - categorical_accuracy: 0.5828 - val_loss: 1.4103 - val_categorical_accuracy: 0.4700\n",
      "\n",
      "Epoch 00015: saving model to model_init_2021-02-0518_23_59.653761/model-00015-0.23664-0.58277-1.41029-0.47000.h5\n",
      "Epoch 16/30\n",
      "7/7 [==============================] - 11s 2s/step - loss: 0.2836 - categorical_accuracy: 0.6168 - val_loss: 1.2916 - val_categorical_accuracy: 0.4500\n",
      "\n",
      "Epoch 00016: saving model to model_init_2021-02-0518_23_59.653761/model-00016-0.28359-0.61678-1.29160-0.45000.h5\n",
      "Epoch 17/30\n",
      "7/7 [==============================] - 11s 2s/step - loss: 0.3962 - categorical_accuracy: 0.6803 - val_loss: 1.1593 - val_categorical_accuracy: 0.4700\n",
      "\n",
      "Epoch 00017: saving model to model_init_2021-02-0518_23_59.653761/model-00017-0.39620-0.68027-1.15929-0.47000.h5\n",
      "Epoch 18/30\n",
      "7/7 [==============================] - 11s 2s/step - loss: 0.3592 - categorical_accuracy: 0.7823 - val_loss: 0.9778 - val_categorical_accuracy: 0.5800\n",
      "\n",
      "Epoch 00018: saving model to model_init_2021-02-0518_23_59.653761/model-00018-0.35917-0.78231-0.97781-0.58000.h5\n",
      "Epoch 19/30\n",
      "7/7 [==============================] - 11s 2s/step - loss: 0.3657 - categorical_accuracy: 0.8685 - val_loss: 0.8312 - val_categorical_accuracy: 0.6600\n",
      "\n",
      "Epoch 00019: saving model to model_init_2021-02-0518_23_59.653761/model-00019-0.36575-0.86848-0.83116-0.66000.h5\n",
      "Epoch 20/30\n",
      "7/7 [==============================] - 20s 3s/step - loss: 0.4885 - categorical_accuracy: 0.8480 - val_loss: 0.7989 - val_categorical_accuracy: 0.7200\n",
      "\n",
      "Epoch 00020: saving model to model_init_2021-02-0518_23_59.653761/model-00020-0.56299-0.82330-0.79888-0.72000.h5\n",
      "Epoch 21/30\n",
      "7/7 [==============================] - 48s 7s/step - loss: 0.7080 - categorical_accuracy: 0.5309 - val_loss: 0.8179 - val_categorical_accuracy: 0.7000\n",
      "\n",
      "Epoch 00021: saving model to model_init_2021-02-0518_23_59.653761/model-00021-0.74651-0.57385-0.81787-0.70000.h5\n",
      "Epoch 22/30\n",
      "7/7 [==============================] - 11s 2s/step - loss: 0.3229 - categorical_accuracy: 0.3605 - val_loss: 0.7598 - val_categorical_accuracy: 0.6500\n",
      "\n",
      "Epoch 00022: saving model to model_init_2021-02-0518_23_59.653761/model-00022-0.32291-0.36054-0.75982-0.65000.h5\n",
      "Epoch 23/30\n",
      "7/7 [==============================] - 11s 2s/step - loss: 0.2371 - categorical_accuracy: 0.4535 - val_loss: 0.8711 - val_categorical_accuracy: 0.6200\n",
      "\n",
      "Epoch 00023: saving model to model_init_2021-02-0518_23_59.653761/model-00023-0.23707-0.45351-0.87114-0.62000.h5\n",
      "Epoch 24/30\n",
      "7/7 [==============================] - 11s 2s/step - loss: 0.2218 - categorical_accuracy: 0.4739 - val_loss: 1.1704 - val_categorical_accuracy: 0.5900\n",
      "\n",
      "Epoch 00024: saving model to model_init_2021-02-0518_23_59.653761/model-00024-0.22175-0.47392-1.17036-0.59000.h5\n",
      "Epoch 25/30\n",
      "7/7 [==============================] - 11s 2s/step - loss: 0.2666 - categorical_accuracy: 0.5420 - val_loss: 1.2549 - val_categorical_accuracy: 0.5800\n",
      "\n",
      "Epoch 00025: saving model to model_init_2021-02-0518_23_59.653761/model-00025-0.26656-0.54195-1.25494-0.58000.h5\n",
      "Epoch 26/30\n",
      "7/7 [==============================] - 11s 2s/step - loss: 0.2205 - categorical_accuracy: 0.6463 - val_loss: 1.3866 - val_categorical_accuracy: 0.5700\n",
      "\n",
      "Epoch 00026: saving model to model_init_2021-02-0518_23_59.653761/model-00026-0.22051-0.64626-1.38661-0.57000.h5\n",
      "\n",
      "Epoch 00026: ReduceLROnPlateau reducing learning rate to 4.0000001899898055e-05.\n",
      "Epoch 27/30\n",
      "7/7 [==============================] - 11s 2s/step - loss: 0.2151 - categorical_accuracy: 0.7687 - val_loss: 1.3165 - val_categorical_accuracy: 0.5900\n",
      "\n",
      "Epoch 00027: saving model to model_init_2021-02-0518_23_59.653761/model-00027-0.21510-0.76871-1.31647-0.59000.h5\n",
      "Epoch 28/30\n",
      "7/7 [==============================] - 11s 2s/step - loss: 0.2401 - categorical_accuracy: 0.8707 - val_loss: 1.2492 - val_categorical_accuracy: 0.5900\n",
      "\n",
      "Epoch 00028: saving model to model_init_2021-02-0518_23_59.653761/model-00028-0.24011-0.87075-1.24920-0.59000.h5\n",
      "Epoch 29/30\n",
      "7/7 [==============================] - 11s 2s/step - loss: 0.2933 - categorical_accuracy: 0.8957 - val_loss: 1.2049 - val_categorical_accuracy: 0.6200\n",
      "\n",
      "Epoch 00029: saving model to model_init_2021-02-0518_23_59.653761/model-00029-0.29333-0.89569-1.20489-0.62000.h5\n",
      "Epoch 30/30\n",
      "7/7 [==============================] - 29s 4s/step - loss: 0.4867 - categorical_accuracy: 0.8450 - val_loss: 1.1279 - val_categorical_accuracy: 0.6300\n",
      "\n",
      "Epoch 00030: saving model to model_init_2021-02-0518_23_59.653761/model-00030-0.54685-0.82428-1.12790-0.63000.h5\n",
      "\n",
      "Epoch 00030: ReduceLROnPlateau reducing learning rate to 8.000000525498762e-06.\n"
     ]
    }
   ],
   "source": [
    "history16 = model.fit_generator(train_generator, steps_per_epoch=steps_per_epoch, epochs=num_epochs, verbose=1, \n",
    "                    callbacks=callbacks_list, validation_data=val_generator, \n",
    "                    validation_steps=validation_steps, class_weight=None, workers=1, initial_epoch=0)"
   ]
  }
 ],
 "metadata": {
  "kernelspec": {
   "display_name": "Python 3",
   "language": "python",
   "name": "python3"
  },
  "language_info": {
   "codemirror_mode": {
    "name": "ipython",
    "version": 3
   },
   "file_extension": ".py",
   "mimetype": "text/x-python",
   "name": "python",
   "nbconvert_exporter": "python",
   "pygments_lexer": "ipython3",
   "version": "3.8.5"
  }
 },
 "nbformat": 4,
 "nbformat_minor": 2
}
